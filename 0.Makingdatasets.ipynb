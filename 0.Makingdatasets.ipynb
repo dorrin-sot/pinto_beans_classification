{
 "cells": [
  {
   "cell_type": "code",
   "execution_count": 2,
   "id": "af207546-d025-45ae-a398-7a47c6daa079",
   "metadata": {},
   "outputs": [],
   "source": [
    "import os\n",
    "import pandas as pd\n",
    "\n",
    "def read_and_label_file(file_path, label):\n",
    "    try:\n",
    "        df = pd.read_excel(file_path, header=None)  # Read without headers\n",
    "        df = df.T  # Transpose the DataFrame\n",
    "        df.columns = df.iloc[0]  # Set the first row as the header\n",
    "        df = df.drop(df.index[0])  # Drop the first row\n",
    "        df = df.drop(df.columns[0], axis=1)  # Drop the first column after transposing\n",
    "        df['Label'] = label\n",
    "        return df\n",
    "    except FileNotFoundError:\n",
    "        print(f\"Error: The file {file_path} was not found.\")\n",
    "        return pd.DataFrame()  # Return an empty DataFrame if the file is not found\n",
    "\n",
    "# Define file paths\n",
    "data_dir = 'data'\n",
    "file_names = ['late917.xlsx', 'soon917.xlsx', 'late1725.xlsx', 'soon1725.xlsx']\n",
    "labels = ['L', 'S', 'L', 'S']\n",
    "\n",
    "# Read, label, and save transposed files\n",
    "transposed_file_names = []\n",
    "for file_name, label in zip(file_names, labels):\n",
    "    file_path = os.path.join(data_dir, file_name)\n",
    "    df = read_and_label_file(file_path, label)\n",
    "    if not df.empty:\n",
    "        transposed_file_name = f\"transposed_{file_name}\"\n",
    "        transposed_file_path = os.path.join(data_dir, transposed_file_name)\n",
    "        df.to_excel(transposed_file_path, index=False)\n",
    "        transposed_file_names.append(transposed_file_name)\n",
    "\n",
    "# Read transposed files for combining\n",
    "dataframes = []\n",
    "for transposed_file_name in transposed_file_names:\n",
    "    transposed_file_path = os.path.join(data_dir, transposed_file_name)\n",
    "    df = pd.read_excel(transposed_file_path)\n",
    "    dataframes.append(df)\n",
    "\n",
    "# Combine datasets\n",
    "if len(dataframes) == 4:\n",
    "    combined_917 = pd.concat(dataframes[:2], ignore_index=True)\n",
    "    combined_917.to_excel(os.path.join(data_dir, 'combined_917.xlsx'), index=False)\n",
    "\n",
    "    combined_1725 = pd.concat(dataframes[2:], ignore_index=True)\n",
    "    combined_1725.to_excel(os.path.join(data_dir, 'combined_1725.xlsx'), index=False)\n",
    "\n",
    "    combined_all = pd.concat([combined_917, combined_1725], ignore_index=True)\n",
    "    combined_all.to_excel(os.path.join(data_dir, 'combined_all.xlsx'), index=False)\n",
    "else:\n",
    "    print(\"Error: Not all files were successfully read. Combined datasets will not be created.\")\n"
   ]
  },
  {
   "cell_type": "code",
   "execution_count": null,
   "id": "63ba5feb-aa20-4095-b27f-3e9763f5e3a9",
   "metadata": {},
   "outputs": [],
   "source": []
  }
 ],
 "metadata": {
  "kernelspec": {
   "display_name": "Python 3 (ipykernel)",
   "language": "python",
   "name": "python3"
  },
  "language_info": {
   "codemirror_mode": {
    "name": "ipython",
    "version": 3
   },
   "file_extension": ".py",
   "mimetype": "text/x-python",
   "name": "python",
   "nbconvert_exporter": "python",
   "pygments_lexer": "ipython3",
   "version": "3.11.11"
  }
 },
 "nbformat": 4,
 "nbformat_minor": 5
}
