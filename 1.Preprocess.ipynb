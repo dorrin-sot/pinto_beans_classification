{
 "cells": [
  {
   "cell_type": "code",
   "execution_count": 1,
   "id": "88eab7f3-3ea7-4ed2-91cd-7cb7ce736363",
   "metadata": {},
   "outputs": [],
   "source": [
    "import os\n",
    "import pandas as pd\n",
    "from sklearn.preprocessing import StandardScaler, LabelEncoder\n",
    "from sklearn.decomposition import PCA\n",
    "\n",
    "def preprocess_data(file_path):\n",
    "    try:\n",
    "        df = pd.read_excel(file_path)\n",
    "        \n",
    "        # Ensure all column names are strings\n",
    "        df.columns = df.columns.astype(str)\n",
    "        \n",
    "        # Handle missing values for numeric columns only\n",
    "        numeric_cols = df.select_dtypes(include=['float64', 'int64']).columns\n",
    "        df[numeric_cols] = df[numeric_cols].fillna(df[numeric_cols].mean())\n",
    "        \n",
    "        # Fill missing categorical values\n",
    "        df.fillna('Unknown', inplace=True)\n",
    "        \n",
    "        # Encode categorical variables\n",
    "        label_encoder = LabelEncoder()\n",
    "        df['Label'] = label_encoder.fit_transform(df['Label'])\n",
    "        \n",
    "        # Normalize numerical features\n",
    "        scaler = StandardScaler()\n",
    "        df[numeric_cols] = scaler.fit_transform(df[numeric_cols])\n",
    "        \n",
    "        return df\n",
    "    except FileNotFoundError:\n",
    "        print(f\"Error: The file {file_path} was not found.\")\n",
    "        return None\n",
    "\n",
    "# Define file paths\n",
    "data_dir = 'data'\n",
    "combined_file_names = ['combined_917.xlsx', 'combined_1725.xlsx', 'combined_all.xlsx']\n",
    "\n",
    "# Preprocess each combined dataset\n",
    "for combined_file_name in combined_file_names:\n",
    "    combined_file_path = os.path.join(data_dir, combined_file_name)\n",
    "    preprocessed_df = preprocess_data(combined_file_path)\n",
    "    \n",
    "    if preprocessed_df is not None:\n",
    "        # Save preprocessed dataset\n",
    "        preprocessed_file_path = os.path.join(data_dir, f\"preprocessed_{combined_file_name}\")\n",
    "        preprocessed_df.to_excel(preprocessed_file_path, index=False)\n",
    "        \n",
    "        # Perform PCA on the preprocessed data\n",
    "        pca = PCA(n_components=min(len(preprocessed_df.columns) - 1, len(preprocessed_df)))\n",
    "        pca_result = pca.fit_transform(preprocessed_df.drop('Label', axis=1))\n",
    "        \n",
    "        # Create a DataFrame for PCA results\n",
    "        pca_df = pd.DataFrame(pca_result, columns=[f'PC{i+1}' for i in range(pca_result.shape[1])])\n",
    "        pca_df['Label'] = preprocessed_df['Label']\n",
    "        \n",
    "        # Save PCA results to a new Excel file\n",
    "        pca_file_path = os.path.join(data_dir, f\"pca_{combined_file_name}\")\n",
    "        pca_df.to_excel(pca_file_path, index=False)"
   ]
  },
  {
   "cell_type": "code",
   "execution_count": null,
   "id": "3260ee7f-20b1-428f-870d-d3d305890d1b",
   "metadata": {},
   "outputs": [],
   "source": []
  }
 ],
 "metadata": {
  "kernelspec": {
   "display_name": "Python 3 (ipykernel)",
   "language": "python",
   "name": "python3"
  },
  "language_info": {
   "codemirror_mode": {
    "name": "ipython",
    "version": 3
   },
   "file_extension": ".py",
   "mimetype": "text/x-python",
   "name": "python",
   "nbconvert_exporter": "python",
   "pygments_lexer": "ipython3",
   "version": "3.11.11"
  }
 },
 "nbformat": 4,
 "nbformat_minor": 5
}
